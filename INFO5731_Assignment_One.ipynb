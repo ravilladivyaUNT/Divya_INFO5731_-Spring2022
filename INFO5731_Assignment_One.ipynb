{
  "cells": [
    {
      "cell_type": "markdown",
      "metadata": {
        "id": "view-in-github",
        "colab_type": "text"
      },
      "source": [
        "<a href=\"https://colab.research.google.com/github/ravilladivyaUNT/Divya_INFO5731_-Spring2022/blob/main/INFO5731_Assignment_One.ipynb\" target=\"_parent\"><img src=\"https://colab.research.google.com/assets/colab-badge.svg\" alt=\"Open In Colab\"/></a>"
      ]
    },
    {
      "cell_type": "markdown",
      "metadata": {
        "id": "Ryk8D1Q4Wsrp"
      },
      "source": [
        "# **INFO5731 Assignment One**"
      ]
    },
    {
      "cell_type": "markdown",
      "metadata": {
        "id": "90_NR8c5XGWc"
      },
      "source": [
        "# Question 1\n",
        "\n",
        "(20 points). Write a Python program to generate 12 random numbers between 1 and 100. Sort the list of numbers in ascending order and print it out. Sort the list of numbers in descending order and print it out. Calculate the average for the group and print it out."
      ]
    },
    {
      "cell_type": "code",
      "execution_count": 20,
      "metadata": {
        "colab": {
          "base_uri": "https://localhost:8080/"
        },
        "id": "5QX6bJjGWXY9",
        "outputId": "3cc16293-9265-4f29-c024-c1af37169889"
      },
      "outputs": [
        {
          "output_type": "stream",
          "name": "stdout",
          "text": [
            "Ascending: [8, 10, 13, 30, 37, 38, 43, 45, 57, 65, 81, 90]\n",
            "Decending: [90, 81, 65, 57, 45, 43, 38, 37, 30, 13, 10, 8]\n",
            "Average:   43.083333333333336\n"
          ]
        }
      ],
      "source": [
        "# Your code here\n",
        "from statistics import mean\n",
        "import random\n",
        "r=random.sample(range(1,100),12)\n",
        "print(\"Ascending:\",sorted(r))\n",
        "print(\"Decending:\",sorted(r,reverse=True))\n",
        "print(\"Average:  \",mean(r))"
      ]
    },
    {
      "cell_type": "markdown",
      "metadata": {
        "id": "1F_PZdH9Sh49"
      },
      "source": [
        "# Question 2\n",
        "(25 points). Write a program that will do the following string formatting tasks:\n",
        "\n",
        "(1) Ask the user to enter two sentences.\n",
        "\n",
        "(2) Make each sentence into a list. Each element in the list should correspond to a word in the sentence. For example, if the sentence is \"Alas! Am I alive? This is my first python program\", the program should print out ['Alas, '!', 'Am', 'I', 'alive, '?', 'This', 'is', 'my', 'first', 'python', 'program'].\n",
        "\n",
        "(3) Compare the two sentences. Print out a list of words that occur in both sentences.\n",
        "\n",
        "(4) Remove any punctuation from the sentence and print it back out. It should remove at least the following characters, but it can remove more: period(“.”), comma (“,”), semicolon (“;”), and colon (“:”)\n",
        "\n",
        "(5) Count the number of vowels in the sentences. Print out each vowel and the number of times it appears in the sentences, such as: a:2, e:1, i:0, etc"
      ]
    },
    {
      "cell_type": "markdown",
      "source": [
        "## 1"
      ],
      "metadata": {
        "id": "mpJ6lKfHPcU8"
      }
    },
    {
      "cell_type": "code",
      "source": [
        "s1=str(input())\n",
        "s2=str(input())"
      ],
      "metadata": {
        "colab": {
          "base_uri": "https://localhost:8080/"
        },
        "id": "pfJqrL-tTx9C",
        "outputId": "4e2a300d-040c-4ea0-b742-4090eab82455"
      },
      "execution_count": 2,
      "outputs": [
        {
          "name": "stdout",
          "output_type": "stream",
          "text": [
            "Alas! Am I alive? This is my first python program.\n",
            "But, alas, the danger was too great and I am a cautious man.\n"
          ]
        }
      ]
    },
    {
      "cell_type": "markdown",
      "source": [
        "## 2"
      ],
      "metadata": {
        "id": "VF-jq-tsPhHr"
      }
    },
    {
      "cell_type": "code",
      "source": [
        "import re\n",
        "sen1=re.findall(r\"\\w+|[^\\w\\s]\",s1)\n",
        "sen2=re.findall(r\"\\w+|[^\\w\\s]\",s2)\n",
        "print(sen1)\n",
        "print(sen2)"
      ],
      "metadata": {
        "colab": {
          "base_uri": "https://localhost:8080/"
        },
        "id": "O_NvDJ3LT8li",
        "outputId": "62585b82-ee4d-45a4-f203-b113f8faf317"
      },
      "execution_count": 3,
      "outputs": [
        {
          "output_type": "stream",
          "name": "stdout",
          "text": [
            "['Alas', '!', 'Am', 'I', 'alive', '?', 'This', 'is', 'my', 'first', 'python', 'program', '.']\n",
            "['But', ',', 'alas', ',', 'the', 'danger', 'was', 'too', 'great', 'and', 'I', 'am', 'a', 'cautious', 'man', '.']\n"
          ]
        }
      ]
    },
    {
      "cell_type": "markdown",
      "source": [
        "## 4"
      ],
      "metadata": {
        "id": "ialhGXnQZjq3"
      }
    },
    {
      "cell_type": "code",
      "execution_count": 21,
      "metadata": {
        "colab": {
          "base_uri": "https://localhost:8080/"
        },
        "id": "Y0oOSlsOS0cq",
        "outputId": "1ee44c9a-73f3-420b-8da0-1b39b05470a1"
      },
      "outputs": [
        {
          "output_type": "stream",
          "name": "stdout",
          "text": [
            "['Alas', 'Am', 'I', 'alive', 'This', 'is', 'my', 'first', 'python', 'program']\n",
            "['But', 'alas', 'the', 'danger', 'was', 'too', 'great', 'and', 'I', 'am', 'a', 'cautious', 'man']\n"
          ]
        }
      ],
      "source": [
        "# Your code here\n",
        "import re\n",
        "sen1=re.sub(\"[^\\w\\s]\", \"\", s1)\n",
        "sen2=re.sub(\"[^\\w\\s]\",\"\", s2)\n",
        "sen1=list(sen1.split())\n",
        "sen2=list(sen2.split())\n",
        "print(sen1)\n",
        "print(sen2)"
      ]
    },
    {
      "cell_type": "markdown",
      "source": [
        "## 3"
      ],
      "metadata": {
        "id": "cjRGSKhhZ7Sf"
      }
    },
    {
      "cell_type": "code",
      "source": [
        "sen1=list(map(lambda x: x.lower(), sen1))\n",
        "sen2=list(map(lambda x: x.lower(), sen2))\n",
        "set1=set(sen1)\n",
        "set2=set(sen2)\n",
        "\n",
        "print(set1&set2)"
      ],
      "metadata": {
        "colab": {
          "base_uri": "https://localhost:8080/"
        },
        "id": "EqQ6DT3GZx_4",
        "outputId": "aec4bdb7-db78-4c10-cab3-968f2552ca93"
      },
      "execution_count": 5,
      "outputs": [
        {
          "output_type": "stream",
          "name": "stdout",
          "text": [
            "{'am', 'alas', 'i'}\n"
          ]
        }
      ]
    },
    {
      "cell_type": "markdown",
      "source": [
        "## 5"
      ],
      "metadata": {
        "id": "UVWdxSVTkhm9"
      }
    },
    {
      "cell_type": "code",
      "source": [
        "S1=s1.lower()\n",
        "S2=s2.lower()\n",
        "def vowels(x):\n",
        "  v=['a','e','i','o','u']\n",
        "  d={}.fromkeys(v,0)\n",
        "  a=list(x.strip())\n",
        "  for i in a:\n",
        "    if i in d.keys():\n",
        "      d[i]=d[i]+1\n",
        "  return d\n",
        "d1=vowels(S1)\n",
        "print(d1)\n",
        "d2=vowels(S2)\n",
        "print(d2)"
      ],
      "metadata": {
        "colab": {
          "base_uri": "https://localhost:8080/"
        },
        "id": "7c4bgpBxjyzi",
        "outputId": "cf1ff6ac-169c-4987-917b-c65bc8cc96e9"
      },
      "execution_count": 22,
      "outputs": [
        {
          "output_type": "stream",
          "name": "stdout",
          "text": [
            "{'a': 5, 'e': 1, 'i': 5, 'o': 2, 'u': 0}\n",
            "{'a': 10, 'e': 3, 'i': 2, 'o': 3, 'u': 3}\n"
          ]
        }
      ]
    },
    {
      "cell_type": "markdown",
      "metadata": {
        "id": "CmFoI4jDS9nx"
      },
      "source": [
        "# Question 3 \n",
        "\n",
        "(15 points). The formula that describes the volume V of a sphere with radius r is the following:\n",
        "\n",
        "$ V=\\frac{4}{3}\\ast\\ \\pi\\ast\\ r^3 $\n",
        "\n",
        "Write a program to calculate the value of V when r is in the range of 1–10. Output the result in the following format:\n",
        "\n",
        "\tr\tV\n",
        "\t1\t…\n",
        "\t2\t…\n",
        "\t3\t…\n"
      ]
    },
    {
      "cell_type": "code",
      "execution_count": 7,
      "metadata": {
        "colab": {
          "base_uri": "https://localhost:8080/"
        },
        "id": "pEyqeioAT95b",
        "outputId": "48a34481-ca94-4342-f1e1-57f339ade647"
      },
      "outputs": [
        {
          "output_type": "stream",
          "name": "stdout",
          "text": [
            "1    4.19\n",
            "2    33.51\n",
            "3    113.1\n",
            "4    268.08\n",
            "5    523.6\n",
            "6    904.78\n",
            "7    1436.76\n",
            "8    2144.66\n",
            "9    3053.63\n",
            "10    4188.79\n"
          ]
        }
      ],
      "source": [
        "# Your code here\n",
        "from math import pi\n",
        "def sphere(r):\n",
        "  vol=(4/3)* pi*(r**3)\n",
        "  print(r,\"  \",round(vol,2)) \n",
        "r=range(1,11)\n",
        "for i in r:\n",
        "  sphere(i)"
      ]
    },
    {
      "cell_type": "markdown",
      "metadata": {
        "id": "z3tBE7E-Xn5X"
      },
      "source": [
        "# Question 4\n",
        "\n",
        "(40 points). In the field of Data Science, data is often formatted as a comma-delimited (CSV) file, where each line in a file corresponds to a field's value. Refer to Chapter 9 (p. 106) for more information on comma-delimited files. To answer this question, you will need to download the file [Assignment1_denton_housing.csv](https://raw.githubusercontent.com/unt-iialab/info5731-spring2022/main/assignments/Assignment1_denton_housing.csv) included with this assignment. The file [Assignment1_denton_housing.csv](https://raw.githubusercontent.com/unt-iialab/info5731-spring2022/main/assignments/Assignment1_denton_housing.csv) contains statistics about housing in the city of Denton from 2008 to 2014. Write a program to implement the following questions.\n",
        "\n",
        "(1) (10 pts) Calculate the difference in the number of Occupied Housing Units from year to year and print it. The difference must be calculated for the consecutive years such as 2008-2009, 2009-2010 etc. Finally, print the values in the ascending order.\n",
        "\n",
        "(2) (10 pts) For all the years, calculate the percentage of housing units which are vacant an occupied. Print the results in the following format:\n",
        "\n",
        "Year Vacant Housing Units Occupied Housing Units\n",
        "\n",
        "    2008  30%   70%                          \n",
        "\t2009 ----- -----\n",
        "\t2010 ----- -----\n",
        "    2011 ----- -----\n",
        "\t2012 ----- -----\n",
        "    2013 ----- -----\n",
        "\t2014 ----- -----\n",
        "  \n",
        "  \n",
        "\n",
        "(3) (10 pts) Calculate and print the valued and years in which the highest number of housing units were vacant and occupied. Print the results in the following format:  \n",
        "\n",
        "                              Year\tValue\n",
        "\tVacant Housing Units\t  -----   -----\n",
        "\tOccupied Housing Units\t-----   -----\n",
        "\n",
        "(4) (10 pts) Calculate the harmonic mean of the total housing units and print it out. You can find the information about harmonic mean here: https://ncalculators.com/statistics/harmonic-mean-calculator.htm"
      ]
    },
    {
      "cell_type": "code",
      "source": [
        "import pandas as pd\n",
        "df=pd.read_csv(\"Assignment1_denton_housing.csv\")\n",
        "print(df.head())"
      ],
      "metadata": {
        "colab": {
          "base_uri": "https://localhost:8080/"
        },
        "id": "GuiZi4cUQRyq",
        "outputId": "5ade5ec8-adf9-4d03-8906-5b0fb51d69df"
      },
      "execution_count": 14,
      "outputs": [
        {
          "output_type": "stream",
          "name": "stdout",
          "text": [
            "   year             title_field  value\n",
            "0  2014     Total Housing Units  49109\n",
            "1  2014    Vacant Housing Units   2814\n",
            "2  2014  Occupied Housing Units  46295\n",
            "3  2013     Total Housing Units  47888\n",
            "4  2013    Vacant Housing Units   4215\n"
          ]
        }
      ]
    },
    {
      "cell_type": "markdown",
      "source": [
        "## 1"
      ],
      "metadata": {
        "id": "OxAdqDA6lg3L"
      }
    },
    {
      "cell_type": "code",
      "source": [
        "occ = df.loc[df[\"title_field\"] == \"Occupied Housing Units\"].sort_values(by=\"year\",ascending=True,ignore_index=True)\n",
        "print(occ,end=\"\\n\\n\")\n",
        "print(\"Difference in the number of Occupied Housing Units from year to year\")\n",
        "oc=abs(occ[\"value\"].diff(periods=1))\n",
        "oc=oc.iloc[1:].reset_index(drop=True)\n",
        "print(oc,end=\"\\n\\n\")\n",
        "print(\"Values in the ascending order\")\n",
        "asc=oc.sort_values(ascending=True)\n",
        "print(asc)"
      ],
      "metadata": {
        "colab": {
          "base_uri": "https://localhost:8080/"
        },
        "id": "rJxSPRwJ2NoJ",
        "outputId": "108ce101-38c8-48e5-b648-2fab7ccd06ef"
      },
      "execution_count": 15,
      "outputs": [
        {
          "output_type": "stream",
          "name": "stdout",
          "text": [
            "   year             title_field  value\n",
            "0  2008  Occupied Housing Units  36711\n",
            "1  2009  Occupied Housing Units  35916\n",
            "2  2010  Occupied Housing Units  41007\n",
            "3  2011  Occupied Housing Units  40704\n",
            "4  2012  Occupied Housing Units  42108\n",
            "5  2013  Occupied Housing Units  43673\n",
            "6  2014  Occupied Housing Units  46295\n",
            "\n",
            "Difference in the number of Occupied Housing Units from year to year\n",
            "0     795.0\n",
            "1    5091.0\n",
            "2     303.0\n",
            "3    1404.0\n",
            "4    1565.0\n",
            "5    2622.0\n",
            "Name: value, dtype: float64\n",
            "\n",
            "Values in the ascending order\n",
            "2     303.0\n",
            "0     795.0\n",
            "3    1404.0\n",
            "4    1565.0\n",
            "5    2622.0\n",
            "1    5091.0\n",
            "Name: value, dtype: float64\n"
          ]
        }
      ]
    },
    {
      "cell_type": "markdown",
      "source": [
        "## 2"
      ],
      "metadata": {
        "id": "fyFbd3rymlGC"
      }
    },
    {
      "cell_type": "code",
      "source": [
        "vac = df.loc[df[\"title_field\"] == \"Vacant Housing Units\"].sort_values(by=\"year\",ascending=True,ignore_index=True)\n",
        "print(vac)"
      ],
      "metadata": {
        "colab": {
          "base_uri": "https://localhost:8080/"
        },
        "id": "CtGdKws-VFaw",
        "outputId": "ee001b3b-7951-4042-992a-c733884e3d8a"
      },
      "execution_count": 16,
      "outputs": [
        {
          "output_type": "stream",
          "name": "stdout",
          "text": [
            "   year           title_field  value\n",
            "0  2008  Vacant Housing Units   4483\n",
            "1  2009  Vacant Housing Units   3583\n",
            "2  2010  Vacant Housing Units   3635\n",
            "3  2011  Vacant Housing Units   4213\n",
            "4  2012  Vacant Housing Units   3013\n",
            "5  2013  Vacant Housing Units   4215\n",
            "6  2014  Vacant Housing Units   2814\n"
          ]
        }
      ]
    },
    {
      "cell_type": "code",
      "source": [
        "l=list(set(sorted(list(df[\"year\"]))))\n",
        "def percentage(a,b):\n",
        "  return (a/(a+b))*100\n",
        "for i in l:\n",
        "  b=float(occ.loc[occ[\"year\"]== i][\"value\"])\n",
        "  a=float(vac.loc[vac[\"year\"]== i][\"value\"])\n",
        "  #print(a,b)\n",
        "  x=percentage(a,b)\n",
        "  y=percentage(b,a)\n",
        "  print(i,\"  \",round(x,2),\"  \",round(y,2))\n"
      ],
      "metadata": {
        "colab": {
          "base_uri": "https://localhost:8080/"
        },
        "id": "dqo6WsJ1Sz2q",
        "outputId": "815f6110-ee99-4873-8d87-c3501467edbd"
      },
      "execution_count": 17,
      "outputs": [
        {
          "output_type": "stream",
          "name": "stdout",
          "text": [
            "2008    10.88    89.12\n",
            "2009    9.07    90.93\n",
            "2010    8.14    91.86\n",
            "2011    9.38    90.62\n",
            "2012    6.68    93.32\n",
            "2013    8.8    91.2\n",
            "2014    5.73    94.27\n"
          ]
        }
      ]
    },
    {
      "cell_type": "markdown",
      "source": [
        "## 3"
      ],
      "metadata": {
        "id": "bpNs5prbqGlj"
      }
    },
    {
      "cell_type": "code",
      "source": [
        "oh=occ.loc[occ[\"value\"]==occ[\"value\"].max()]\n",
        "vh=vac.loc[vac[\"value\"]==vac[\"value\"].max()]\n",
        "print(\"Vacant Housing Units:    \",int(vh[\"year\"]),int(vh[\"value\"]))\n",
        "print(\"Occupied Housing Units:  \",int(oh[\"year\"]),int(oh[\"value\"]))"
      ],
      "metadata": {
        "colab": {
          "base_uri": "https://localhost:8080/"
        },
        "id": "N6CLwSw8nBti",
        "outputId": "6884cca9-5515-4d9a-8777-cf79aa920d6d"
      },
      "execution_count": 18,
      "outputs": [
        {
          "output_type": "stream",
          "name": "stdout",
          "text": [
            "Vacant Housing Units:     2008 4483\n",
            "Occupied Housing Units:   2014 46295\n"
          ]
        }
      ]
    },
    {
      "cell_type": "markdown",
      "source": [
        "## 4"
      ],
      "metadata": {
        "id": "adVC_uWRqJhH"
      }
    },
    {
      "cell_type": "code",
      "source": [
        "from scipy.stats import hmean\n",
        "hm=df.loc[df[\"title_field\"] == \"Total Housing Units\"][\"value\"]\n",
        "print(hm)\n",
        "h=float(hmean(hm, axis=0, dtype=None))\n",
        "print(\"Harmonic mean: \",h)"
      ],
      "metadata": {
        "colab": {
          "base_uri": "https://localhost:8080/"
        },
        "id": "FT8pIuyEEHPu",
        "outputId": "f1dba1be-a5b6-4e37-9d53-3a3eb5fd217e"
      },
      "execution_count": 19,
      "outputs": [
        {
          "output_type": "stream",
          "name": "stdout",
          "text": [
            "0     49109\n",
            "3     47888\n",
            "6     45121\n",
            "9     44917\n",
            "12    44642\n",
            "15    39499\n",
            "18    41194\n",
            "Name: value, dtype: int64\n",
            "Harmonic mean:  44398.28543969185\n"
          ]
        }
      ]
    }
  ],
  "metadata": {
    "colab": {
      "collapsed_sections": [
        "OxAdqDA6lg3L",
        "fyFbd3rymlGC",
        "bpNs5prbqGlj",
        "adVC_uWRqJhH"
      ],
      "name": "INFO5731_Assignment_One.ipynb",
      "provenance": [],
      "include_colab_link": true
    },
    "kernelspec": {
      "display_name": "Python 3",
      "language": "python",
      "name": "python3"
    },
    "language_info": {
      "codemirror_mode": {
        "name": "ipython",
        "version": 3
      },
      "file_extension": ".py",
      "mimetype": "text/x-python",
      "name": "python",
      "nbconvert_exporter": "python",
      "pygments_lexer": "ipython3",
      "version": "3.8.5"
    }
  },
  "nbformat": 4,
  "nbformat_minor": 0
}