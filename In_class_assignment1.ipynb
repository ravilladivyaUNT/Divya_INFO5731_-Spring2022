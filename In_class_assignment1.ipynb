{
  "cells": [
    {
      "cell_type": "markdown",
      "metadata": {
        "id": "view-in-github",
        "colab_type": "text"
      },
      "source": [
        "<a href=\"https://colab.research.google.com/github/ravilladivyaUNT/Divya_INFO5731_-Spring2022/blob/main/In_class_assignment1.ipynb\" target=\"_parent\"><img src=\"https://colab.research.google.com/assets/colab-badge.svg\" alt=\"Open In Colab\"/></a>"
      ]
    },
    {
      "cell_type": "markdown",
      "metadata": {
        "id": "DymRJbxDBCnf"
      },
      "source": [
        "# **The first In-class-exercise (01/25/2022, 40 points in total)**"
      ]
    },
    {
      "cell_type": "markdown",
      "metadata": {
        "id": "03jb4GZsBkBS"
      },
      "source": [
        "(1) Write a Python program to calculate the length of a string. (4 points)"
      ]
    },
    {
      "cell_type": "code",
      "execution_count": 1,
      "metadata": {
        "colab": {
          "base_uri": "https://localhost:8080/"
        },
        "id": "YaGLbSHHB8Ej",
        "outputId": "039272f4-6b29-4b4e-b06c-21054fa32ff8"
      },
      "outputs": [
        {
          "output_type": "stream",
          "name": "stdout",
          "text": [
            "11\n"
          ]
        }
      ],
      "source": [
        "# write your answer here\n",
        "s=\"Hello world\"\n",
        "print(len(s))\n"
      ]
    },
    {
      "cell_type": "markdown",
      "metadata": {
        "id": "jJDe71iLB616"
      },
      "source": [
        "(2) Write a Python program to count the number of characters in a string. (4 points)\n",
        "\n",
        "Sample String : 'google.com‘, \n",
        "\n",
        "Expected Result : {'o': 3, 'g': 2, '.': 1, 'e': 1, 'l': 1, 'm': 1, 'c': 1}"
      ]
    },
    {
      "cell_type": "code",
      "execution_count": 2,
      "metadata": {
        "colab": {
          "base_uri": "https://localhost:8080/"
        },
        "id": "MtKskTzbCLaU",
        "outputId": "c6224b2c-05da-4b55-e76f-21a337ba176e"
      },
      "outputs": [
        {
          "output_type": "stream",
          "name": "stdout",
          "text": [
            "google.com\n",
            "{'o': 3, 'g': 2, 'l': 1, 'e': 1, '.': 1, 'c': 1, 'm': 1}\n"
          ]
        }
      ],
      "source": [
        "# write your answer here\n",
        "s='google.com'\n",
        "l=(s.strip())\n",
        "print(l)\n",
        "d={}.fromkeys(l,0)\n",
        "for k,v in d.items():\n",
        "  c=l.count(k)\n",
        "  d[k]=c\n",
        "e=dict(sorted(d.items(),key= lambda x:x[1],reverse=True))\n",
        "print(e)"
      ]
    },
    {
      "cell_type": "markdown",
      "metadata": {
        "id": "55W9AMdXCSpV"
      },
      "source": [
        "(3) Write a Python program to sum all the items in a list. (4 points)"
      ]
    },
    {
      "cell_type": "code",
      "execution_count": 3,
      "metadata": {
        "colab": {
          "base_uri": "https://localhost:8080/"
        },
        "id": "I57NXsauCec2",
        "outputId": "52d20170-adba-45f1-c881-ae11a046e9d3"
      },
      "outputs": [
        {
          "output_type": "stream",
          "name": "stdout",
          "text": [
            "36\n"
          ]
        }
      ],
      "source": [
        "# write your answer here\n",
        "list=[1,2,3,4,5,6,7,8]\n",
        "print(sum(list))\n"
      ]
    },
    {
      "cell_type": "markdown",
      "metadata": {
        "id": "4ulBZ6yhCi9F"
      },
      "source": [
        "(4) Write a Python program to get a string from a given string where all occurrences of its first char have been changed to '\\$', except the first char itself. (4 points)\n",
        "\n",
        "Sample String : 'restart‘, \n",
        "\n",
        "Expected Result : 'resta\\$t'"
      ]
    },
    {
      "cell_type": "code",
      "execution_count": 4,
      "metadata": {
        "colab": {
          "base_uri": "https://localhost:8080/"
        },
        "id": "Fj0XhwbBCw2o",
        "outputId": "9009257d-7ae5-4063-96c0-55b2d7bd15bb"
      },
      "outputs": [
        {
          "output_type": "stream",
          "name": "stdout",
          "text": [
            "resta$t\n"
          ]
        }
      ],
      "source": [
        "# write your answer here\n",
        "s= 'restart'\n",
        "r=''\n",
        "c=0\n",
        "for i in s:       #Finding the first occurance of the character\n",
        "  if i not in r:\n",
        "    r=r+i\n",
        "  else:\n",
        "    v=i\n",
        "    break;\n",
        "r=''\n",
        "for i in s:      #Replacing '$' for all occurance of the first character\n",
        "  if i not in r:\n",
        "    r=r+i\n",
        "  else:\n",
        "    if i== v:\n",
        "      r=r+\"$\"\n",
        "    else:\n",
        "      r=r+i\n",
        "print(r)\n",
        "\n"
      ]
    },
    {
      "cell_type": "markdown",
      "metadata": {
        "id": "_bIP7s1MCzue"
      },
      "source": [
        "(5) Write a program with python which could accept two parameter a and b to calculate and output the result of S, where \n",
        "\n",
        "$\\ S=3.14*(1+a/b)^3$ (4 points)\n",
        "\n"
      ]
    },
    {
      "cell_type": "code",
      "execution_count": 5,
      "metadata": {
        "colab": {
          "base_uri": "https://localhost:8080/"
        },
        "id": "w79QilHXD3Mg",
        "outputId": "2d68364a-96e0-42de-a214-9e31081fac0d"
      },
      "outputs": [
        {
          "output_type": "stream",
          "name": "stdout",
          "text": [
            "18.312480000000004\n"
          ]
        }
      ],
      "source": [
        "# write your answer here\n",
        "a=4\n",
        "b=5\n",
        "s=(3.14*((1+(a/b))**3))\n",
        "print(s)"
      ]
    },
    {
      "cell_type": "markdown",
      "metadata": {
        "id": "xCa2bK9aD4Q3"
      },
      "source": [
        "(6) Write a Python program to concatenate following dictionaries to create a new one. (4 points)\n",
        "\n",
        "Sample Dictionary : dic1={1:10, 2:20}, dic2={3:30, 4:40}, dic3={5:50,6:60}, \n",
        "\n",
        "Expected Result : {1: 10, 2: 20, 3: 30, 4: 40, 5: 50, 6: 60}\n"
      ]
    },
    {
      "cell_type": "code",
      "execution_count": 6,
      "metadata": {
        "colab": {
          "base_uri": "https://localhost:8080/"
        },
        "id": "_z4aLqAbEET1",
        "outputId": "2e907dd9-9ac4-4ddc-c28f-6c6e14ee5be1"
      },
      "outputs": [
        {
          "output_type": "stream",
          "name": "stdout",
          "text": [
            "{1: 10, 2: 20, 3: 30, 4: 40, 5: 50, 6: 60}\n"
          ]
        }
      ],
      "source": [
        "\n",
        "# write your answer here\n",
        "d=dict()\n",
        "def merge(d1,d2):\n",
        "   d1.update(d2)\n",
        "dic1={1:10, 2:20} \n",
        "dic2={3:30, 4:40}\n",
        "dic3={5:50, 6:60}\n",
        "merge(d,dic1)\n",
        "merge(d,dic2)\n",
        "merge(d,dic3)\n",
        "print(d)"
      ]
    },
    {
      "cell_type": "markdown",
      "metadata": {
        "id": "0v48Vqa7FrQh"
      },
      "source": [
        "(7) Write a Python program to check whether an element exists within a tuple. (4 points)"
      ]
    },
    {
      "cell_type": "code",
      "execution_count": 7,
      "metadata": {
        "colab": {
          "base_uri": "https://localhost:8080/"
        },
        "id": "7WEmgq-DF2P1",
        "outputId": "7c4c52c6-c26d-49ca-ce57-fb0852525c31"
      },
      "outputs": [
        {
          "output_type": "stream",
          "name": "stdout",
          "text": [
            "Element exists\n"
          ]
        }
      ],
      "source": [
        "# write your answer here\n",
        "t=(1,2,3,4,5,6,7,8,9) #Tuple\n",
        "v=5                   #Input to check whether an element exists within a tuple\n",
        "if v in t:\n",
        "  print(\"Element exists\")\n",
        "else:\n",
        "  print(\"Element not exists\")\n"
      ]
    },
    {
      "cell_type": "markdown",
      "metadata": {
        "id": "vD5PYLMuGga_"
      },
      "source": [
        "(8) Write a Python program to find maximum and the minimum value in a set. (4 points)"
      ]
    },
    {
      "cell_type": "code",
      "execution_count": 8,
      "metadata": {
        "colab": {
          "base_uri": "https://localhost:8080/"
        },
        "id": "t0D5kdJUGjjw",
        "outputId": "75e7902a-a95e-41b7-9fc4-905297a34f2c"
      },
      "outputs": [
        {
          "output_type": "stream",
          "name": "stdout",
          "text": [
            "9\n",
            "1\n"
          ]
        }
      ],
      "source": [
        "# write your answer here\n",
        "s={1,2,3,4,5,6,7,8,9}\n",
        "print(max(s))\n",
        "print(min(s))"
      ]
    },
    {
      "cell_type": "markdown",
      "metadata": {
        "id": "uHkd-y5VhVWC"
      },
      "source": [
        "(9) Write a Python program to randomly divide the students in this class into six groups for term projects, each group should have at least 4 students but no more than 6 students (including 6). Here is the students list: (4 points)\n",
        "\n",
        "studnet_list = ['ja0964','sa1198','sb1357','vb0218','sc1229','kg0569','kg0470','sg1297','bg0320','fh0141','jl1252','sk1386',\n",
        "           'ak0956','sk1390','sk1458','sk1313','ak0934','vm0377','nm0618','sm1640','sm1907','gn0108','pr0353','dr0609','ms1500','aos0040','ds0814', 'av0659','nv0234','hy0232']"
      ]
    },
    {
      "cell_type": "code",
      "execution_count": 9,
      "metadata": {
        "colab": {
          "base_uri": "https://localhost:8080/"
        },
        "id": "3iGbmcOBhTwy",
        "outputId": "78bde9e3-ebf5-466b-b408-275ee1fd0554"
      },
      "outputs": [
        {
          "output_type": "stream",
          "name": "stdout",
          "text": [
            "30\n",
            "['jl1252', 'pr0353', 'sk1313', 'sb1357', 'nv0234']\n",
            "['sk1390', 'aos0040', 'vm0377', 'kg0569', 'nm0618', 'sg1297']\n",
            "['ds0814', 'pr0353', 'sk1313', 'sg1297', 'aos0040']\n",
            "['av0659', 'gn0108', 'ak0956', 'ja0964']\n",
            "['vb0218', 'sc1229', 'kg0569', 'sa1198', 'sk1458']\n",
            "['kg0470', 'ak0934', 'sc1229', 'vb0218', 'nm0618', 'hy0232']\n"
          ]
        }
      ],
      "source": [
        "# write your answer here\n",
        "import random\n",
        "def randomlyGenerateList(student_list: list, groupCount: int):\n",
        "    for i in range(groupCount):\n",
        "        print(random.sample(student_list, random.randint(4, 6)))\n",
        "\n",
        "student_list = ['ja0964','sa1198','sb1357','vb0218','sc1229','kg0569','kg0470','sg1297',\n",
        "                'bg0320','fh0141','jl1252','sk1386', 'ak0956','sk1390','sk1458','sk1313',\n",
        "                'ak0934','vm0377','nm0618','sm1640','sm1907','gn0108','pr0353','dr0609',\n",
        "                'ms1500','aos0040','ds0814', 'av0659','nv0234','hy0232']\n",
        "print(len(student_list))\n",
        "groupCount = 6\n",
        "randomlyGenerateList(student_list, groupCount)\n"
      ]
    },
    {
      "cell_type": "markdown",
      "metadata": {
        "id": "_BYDy0Tuoa0K"
      },
      "source": [
        "(10) Write a Python program to find the duplicate elements in a given array of integers. Return -1 If there are no such elements. (4 points)"
      ]
    },
    {
      "cell_type": "code",
      "execution_count": 10,
      "metadata": {
        "colab": {
          "base_uri": "https://localhost:8080/"
        },
        "id": "9CWbjiRHoa0L",
        "outputId": "56be3f49-e01f-4e1f-f820-f08d8ee0cd4e"
      },
      "outputs": [
        {
          "output_type": "stream",
          "name": "stdout",
          "text": [
            "[2, 3, 4]\n"
          ]
        }
      ],
      "source": [
        "# write your answer here\n",
        "n=[2,2,2,3,3,4,4,5,6,7]\n",
        "s=set(n)\n",
        "d={}.fromkeys(n,0)\n",
        "for k,v in d.items():\n",
        "  c=n.count(k)\n",
        "  d[k]=c\n",
        "lst=[]\n",
        "def duplicates(d): #function to find the duplicate elements in a given array of integers\n",
        "  dup=False\n",
        "  for k,v in d.items():\n",
        "    if v>1:\n",
        "     lst.append(k)\n",
        "     dup=True\n",
        "  if dup==True:\n",
        "    print(lst)\n",
        "  else:\n",
        "    print(-1) \n",
        "lst=duplicates(d)"
      ]
    },
    {
      "cell_type": "markdown",
      "metadata": {
        "id": "QgHqvX6_oa0M"
      },
      "source": [
        "(11) Write a Python program to select all the Sundays of a specified year. (4 extra points)"
      ]
    },
    {
      "cell_type": "code",
      "execution_count": 11,
      "metadata": {
        "colab": {
          "base_uri": "https://localhost:8080/"
        },
        "id": "J7QZ0tfhoa0N",
        "outputId": "aa4050d6-94d6-49bc-d861-fd45f2a0a967"
      },
      "outputs": [
        {
          "output_type": "stream",
          "name": "stdout",
          "text": [
            "52\n"
          ]
        }
      ],
      "source": [
        "# write your answer here\n",
        "import datetime\n",
        "\n",
        "\n",
        "def getCountOfSundays(year: datetime):\n",
        "    start = datetime.datetime(year, 1, 1)\n",
        "    end = datetime.datetime(year, 12, 31)\n",
        "    dayCount = 0\n",
        "    noOfSundays = 1\n",
        "    for i in range(1, (end - start).days + 2):\n",
        "        if i <= (7 - (start.weekday() + 1)):\n",
        "            continue\n",
        "        else:\n",
        "            dayCount += 1\n",
        "            if dayCount % 7 == 0:\n",
        "                noOfSundays += 1\n",
        "    print(noOfSundays)\n",
        "\n",
        "\n",
        "year = 1997\n",
        "getCountOfSundays(year)"
      ]
    }
  ],
  "metadata": {
    "colab": {
      "collapsed_sections": [],
      "name": "In_class_assignment1.ipynb",
      "provenance": [],
      "include_colab_link": true
    },
    "kernelspec": {
      "display_name": "Python 3",
      "language": "python",
      "name": "python3"
    },
    "language_info": {
      "codemirror_mode": {
        "name": "ipython",
        "version": 3
      },
      "file_extension": ".py",
      "mimetype": "text/x-python",
      "name": "python",
      "nbconvert_exporter": "python",
      "pygments_lexer": "ipython3",
      "version": "3.8.5"
    }
  },
  "nbformat": 4,
  "nbformat_minor": 0
}