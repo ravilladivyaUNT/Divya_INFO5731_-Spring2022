{
  "cells": [
    {
      "cell_type": "markdown",
      "metadata": {
        "id": "view-in-github",
        "colab_type": "text"
      },
      "source": [
        "<a href=\"https://colab.research.google.com/github/ravilladivyaUNT/Divya_INFO5731_-Spring2022/blob/main/In_class_exercise_05_Colab.ipynb\" target=\"_parent\"><img src=\"https://colab.research.google.com/assets/colab-badge.svg\" alt=\"Open In Colab\"/></a>"
      ]
    },
    {
      "cell_type": "markdown",
      "metadata": {
        "id": "z3qM4JxJ42lP"
      },
      "source": [
        "# **The fifth in-class-exercise (40 points in total, 04/12/2022)**"
      ]
    },
    {
      "cell_type": "markdown",
      "metadata": {
        "id": "fuefsTcx42lS"
      },
      "source": [
        "(20 points) The purpose of the question is to practice different machine learning algorithms for text classification as well as the performance evaluation. In addition, you are requried to conduct *10 fold cross validation (https://scikit-learn.org/stable/modules/cross_validation.html)* in the training. \n",
        "\n",
        "The dataset can be download from here: https://github.com/unt-iialab/info5731-spring2022/blob/main/assignments/exercise05_datacollection.zip. The dataset contains two files train data and test data for sentiment analysis in IMDB review, it has two categories: 1 represents positive and 0 represents negative. You need to split the training data into training and validate data (80% for training and 20% for validation, https://towardsdatascience.com/train-test-split-and-cross-validation-in-python-80b61beca4b6) and perform 10 fold cross validation while training the classifier. The final trained model was final evaluated on the test data. \n",
        "\n",
        "Algorithms:\n",
        "\n",
        "(1) MultinominalNB\n",
        "\n",
        "(2) SVM \n",
        "\n",
        "(3) KNN \n",
        "\n",
        "(4) Decision tree\n",
        "\n",
        "(5) Random Forest\n",
        "\n",
        "(6) XGBoost\n",
        "\n",
        "Evaluation measurement:\n",
        "\n",
        "(1) Accuracy\n",
        "\n",
        "(2) Recall\n",
        "\n",
        "(3) Precison \n",
        "\n",
        "(4) F-1 score"
      ]
    },
    {
      "cell_type": "code",
      "execution_count": null,
      "metadata": {
        "id": "_oSH53_W42lU"
      },
      "outputs": [],
      "source": [
        "# Write your code here\n",
        "\n",
        "\n"
      ]
    },
    {
      "cell_type": "markdown",
      "metadata": {
        "id": "CT-mIDRB42lW"
      },
      "source": [
        "(20 points) The purpose of the question is to practice different machine learning algorithms for text clustering\n",
        "Please downlad the dataset by using the following link.  https://www.kaggle.com/PromptCloudHQ/amazon-reviews-unlocked-mobile-phones\n",
        "(You can also use different text data which you want)\n",
        "\n",
        "Apply the listed clustering methods to the dataset:\n",
        "\n",
        "K means, \n",
        "DBSCAN,\n",
        "Hierarchical clustering. \n",
        "\n",
        "You can refer to of the codes from  the follwing link below. \n",
        "https://www.kaggle.com/karthik3890/text-clustering "
      ]
    },
    {
      "cell_type": "markdown",
      "metadata": {
        "id": "hqNk2jT_42lX"
      },
      "source": [
        "In one paragraph, please compare K means, DBSCAN and Hierarchical clustering."
      ]
    },
    {
      "cell_type": "code",
      "execution_count": null,
      "metadata": {
        "id": "TZEXXtW-42lY"
      },
      "outputs": [],
      "source": [
        ""
      ]
    },
    {
      "cell_type": "code",
      "execution_count": null,
      "metadata": {
        "colab": {
          "base_uri": "https://localhost:8080/"
        },
        "id": "IXLoOOWN42lZ",
        "outputId": "fafc5c7e-bc4b-4daf-8ba8-6681f39336b0"
      },
      "outputs": [
        {
          "output_type": "stream",
          "name": "stdout",
          "text": [
            "Drive already mounted at /content/gdrive; to attempt to forcibly remount, call drive.mount(\"/content/gdrive\", force_remount=True).\n"
          ]
        }
      ],
      "source": [
        "from google.colab import drive\n",
        "drive.mount('/content/gdrive')"
      ]
    },
    {
      "cell_type": "markdown",
      "metadata": {
        "id": "TcfpZ-6L42lZ"
      },
      "source": [
        "# Q1.)"
      ]
    },
    {
      "cell_type": "code",
      "execution_count": null,
      "metadata": {
        "colab": {
          "base_uri": "https://localhost:8080/",
          "height": 206
        },
        "id": "-LQonuXe42la",
        "outputId": "ea6a92de-9443-4c8b-ca5c-cb6f027a2a6d"
      },
      "outputs": [
        {
          "output_type": "execute_result",
          "data": {
            "text/plain": [
              "  sentiment                                               text\n",
              "0         1  a stirring , funny and finally transporting re...\n",
              "1         0  apparently reassembled from the cutting-room f...\n",
              "2         0  they presume their audience wo n't sit still f...\n",
              "3         1  this is a visually stunning rumination on love...\n",
              "4         1  jonathan parker 's bartleby should have been t..."
            ],
            "text/html": [
              "\n",
              "  <div id=\"df-9708b838-208b-455d-bda1-25f898123d34\">\n",
              "    <div class=\"colab-df-container\">\n",
              "      <div>\n",
              "<style scoped>\n",
              "    .dataframe tbody tr th:only-of-type {\n",
              "        vertical-align: middle;\n",
              "    }\n",
              "\n",
              "    .dataframe tbody tr th {\n",
              "        vertical-align: top;\n",
              "    }\n",
              "\n",
              "    .dataframe thead th {\n",
              "        text-align: right;\n",
              "    }\n",
              "</style>\n",
              "<table border=\"1\" class=\"dataframe\">\n",
              "  <thead>\n",
              "    <tr style=\"text-align: right;\">\n",
              "      <th></th>\n",
              "      <th>sentiment</th>\n",
              "      <th>text</th>\n",
              "    </tr>\n",
              "  </thead>\n",
              "  <tbody>\n",
              "    <tr>\n",
              "      <th>0</th>\n",
              "      <td>1</td>\n",
              "      <td>a stirring , funny and finally transporting re...</td>\n",
              "    </tr>\n",
              "    <tr>\n",
              "      <th>1</th>\n",
              "      <td>0</td>\n",
              "      <td>apparently reassembled from the cutting-room f...</td>\n",
              "    </tr>\n",
              "    <tr>\n",
              "      <th>2</th>\n",
              "      <td>0</td>\n",
              "      <td>they presume their audience wo n't sit still f...</td>\n",
              "    </tr>\n",
              "    <tr>\n",
              "      <th>3</th>\n",
              "      <td>1</td>\n",
              "      <td>this is a visually stunning rumination on love...</td>\n",
              "    </tr>\n",
              "    <tr>\n",
              "      <th>4</th>\n",
              "      <td>1</td>\n",
              "      <td>jonathan parker 's bartleby should have been t...</td>\n",
              "    </tr>\n",
              "  </tbody>\n",
              "</table>\n",
              "</div>\n",
              "      <button class=\"colab-df-convert\" onclick=\"convertToInteractive('df-9708b838-208b-455d-bda1-25f898123d34')\"\n",
              "              title=\"Convert this dataframe to an interactive table.\"\n",
              "              style=\"display:none;\">\n",
              "        \n",
              "  <svg xmlns=\"http://www.w3.org/2000/svg\" height=\"24px\"viewBox=\"0 0 24 24\"\n",
              "       width=\"24px\">\n",
              "    <path d=\"M0 0h24v24H0V0z\" fill=\"none\"/>\n",
              "    <path d=\"M18.56 5.44l.94 2.06.94-2.06 2.06-.94-2.06-.94-.94-2.06-.94 2.06-2.06.94zm-11 1L8.5 8.5l.94-2.06 2.06-.94-2.06-.94L8.5 2.5l-.94 2.06-2.06.94zm10 10l.94 2.06.94-2.06 2.06-.94-2.06-.94-.94-2.06-.94 2.06-2.06.94z\"/><path d=\"M17.41 7.96l-1.37-1.37c-.4-.4-.92-.59-1.43-.59-.52 0-1.04.2-1.43.59L10.3 9.45l-7.72 7.72c-.78.78-.78 2.05 0 2.83L4 21.41c.39.39.9.59 1.41.59.51 0 1.02-.2 1.41-.59l7.78-7.78 2.81-2.81c.8-.78.8-2.07 0-2.86zM5.41 20L4 18.59l7.72-7.72 1.47 1.35L5.41 20z\"/>\n",
              "  </svg>\n",
              "      </button>\n",
              "      \n",
              "  <style>\n",
              "    .colab-df-container {\n",
              "      display:flex;\n",
              "      flex-wrap:wrap;\n",
              "      gap: 12px;\n",
              "    }\n",
              "\n",
              "    .colab-df-convert {\n",
              "      background-color: #E8F0FE;\n",
              "      border: none;\n",
              "      border-radius: 50%;\n",
              "      cursor: pointer;\n",
              "      display: none;\n",
              "      fill: #1967D2;\n",
              "      height: 32px;\n",
              "      padding: 0 0 0 0;\n",
              "      width: 32px;\n",
              "    }\n",
              "\n",
              "    .colab-df-convert:hover {\n",
              "      background-color: #E2EBFA;\n",
              "      box-shadow: 0px 1px 2px rgba(60, 64, 67, 0.3), 0px 1px 3px 1px rgba(60, 64, 67, 0.15);\n",
              "      fill: #174EA6;\n",
              "    }\n",
              "\n",
              "    [theme=dark] .colab-df-convert {\n",
              "      background-color: #3B4455;\n",
              "      fill: #D2E3FC;\n",
              "    }\n",
              "\n",
              "    [theme=dark] .colab-df-convert:hover {\n",
              "      background-color: #434B5C;\n",
              "      box-shadow: 0px 1px 3px 1px rgba(0, 0, 0, 0.15);\n",
              "      filter: drop-shadow(0px 1px 2px rgba(0, 0, 0, 0.3));\n",
              "      fill: #FFFFFF;\n",
              "    }\n",
              "  </style>\n",
              "\n",
              "      <script>\n",
              "        const buttonEl =\n",
              "          document.querySelector('#df-9708b838-208b-455d-bda1-25f898123d34 button.colab-df-convert');\n",
              "        buttonEl.style.display =\n",
              "          google.colab.kernel.accessAllowed ? 'block' : 'none';\n",
              "\n",
              "        async function convertToInteractive(key) {\n",
              "          const element = document.querySelector('#df-9708b838-208b-455d-bda1-25f898123d34');\n",
              "          const dataTable =\n",
              "            await google.colab.kernel.invokeFunction('convertToInteractive',\n",
              "                                                     [key], {});\n",
              "          if (!dataTable) return;\n",
              "\n",
              "          const docLinkHtml = 'Like what you see? Visit the ' +\n",
              "            '<a target=\"_blank\" href=https://colab.research.google.com/notebooks/data_table.ipynb>data table notebook</a>'\n",
              "            + ' to learn more about interactive tables.';\n",
              "          element.innerHTML = '';\n",
              "          dataTable['output_type'] = 'display_data';\n",
              "          await google.colab.output.renderOutput(dataTable, element);\n",
              "          const docLink = document.createElement('div');\n",
              "          docLink.innerHTML = docLinkHtml;\n",
              "          element.appendChild(docLink);\n",
              "        }\n",
              "      </script>\n",
              "    </div>\n",
              "  </div>\n",
              "  "
            ]
          },
          "metadata": {},
          "execution_count": 44
        }
      ],
      "source": [
        "#Write your code here.\n",
        "import pandas as pd\n",
        "import numpy as np\n",
        "\n",
        "# loading train data\n",
        "train_data = pd.read_csv('/content/gdrive/My Drive/stsa-train.txt', sep = \"\\t\", header = None)\n",
        "\n",
        "# truncating array size to 10 while printing \n",
        "np.set_printoptions(threshold=10)\n",
        "# creating target column and text column\n",
        "train_data[1] = train_data[0].apply(lambda row: row.split()[0])\n",
        "train_data[2] = train_data[0].apply(lambda row: \" \".join(row.split()[1:]))\n",
        "train_data = train_data.drop(0, axis = 1)\n",
        "train_data.columns = ['sentiment', 'text']\n",
        "train_data.head()"
      ]
    },
    {
      "cell_type": "code",
      "execution_count": null,
      "metadata": {
        "colab": {
          "base_uri": "https://localhost:8080/"
        },
        "id": "siTnVrxi42lc",
        "outputId": "a99d7cbf-8de1-436b-bbde-392be91beea0"
      },
      "outputs": [
        {
          "output_type": "execute_result",
          "data": {
            "text/plain": [
              "sentiment    0\n",
              "text         0\n",
              "dtype: int64"
            ]
          },
          "metadata": {},
          "execution_count": 45
        }
      ],
      "source": [
        "# checking for null values\n",
        "train_data.isna().sum()"
      ]
    },
    {
      "cell_type": "code",
      "execution_count": null,
      "metadata": {
        "colab": {
          "base_uri": "https://localhost:8080/"
        },
        "id": "A3eHkOLE42ld",
        "outputId": "8166c122-3268-41ec-e878-a31bc5c2ae90"
      },
      "outputs": [
        {
          "output_type": "stream",
          "name": "stdout",
          "text": [
            "[nltk_data] Downloading package stopwords to /root/nltk_data...\n",
            "[nltk_data]   Package stopwords is already up-to-date!\n"
          ]
        },
        {
          "output_type": "stream",
          "name": "stderr",
          "text": [
            "/usr/local/lib/python3.7/dist-packages/ipykernel_launcher.py:20: FutureWarning: The default value of regex will change from True to False in a future version.\n"
          ]
        },
        {
          "output_type": "stream",
          "name": "stdout",
          "text": [
            "[nltk_data] Downloading package wordnet to /root/nltk_data...\n",
            "[nltk_data]   Package wordnet is already up-to-date!\n"
          ]
        }
      ],
      "source": [
        "### You code here:\n",
        "\n",
        "import pandas as pd\n",
        "import re\n",
        "from nltk.corpus import stopwords\n",
        "from sklearn.feature_extraction.text import TfidfVectorizer\n",
        "from sklearn.metrics import classification_report, confusion_matrix\n",
        "from sklearn.model_selection import train_test_split\n",
        "from sklearn.feature_selection import SelectKBest, chi2\n",
        "\n",
        "from sklearn.ensemble import RandomForestClassifier\n",
        "import nltk\n",
        "nltk.download('stopwords')\n",
        "\n",
        "# getting stopwords of english\n",
        "stopwords = stopwords.words(\"english\")\n",
        "stopwords = [re.sub('[^a-zA-Z0-9]+', '', word) for word in stopwords]\n",
        "\n",
        "# removing all special characters\n",
        "train_data['text'] = train_data['text'].str.replace('[^a-zA-Z0-9 ]', '')\n",
        "train_data['text'] = train_data['text'].apply(lambda x: ' '.join([word for word in x.split() if word not in (stopwords)]))\n",
        "\n",
        "from nltk.stem import WordNetLemmatizer\n",
        "import nltk\n",
        "nltk.download('wordnet')\n",
        "wordnet_lemmatizer = WordNetLemmatizer()\n",
        "\n",
        "# applying lemmatization on the tweets\n",
        "train_data['text'] = train_data['text'].apply(lambda row: \" \".join(wordnet_lemmatizer.lemmatize(word, pos=\"v\") for word in row.split()))\n",
        "train_data['text'] = train_data['text'].apply(lambda row: \" \".join(wordnet_lemmatizer.lemmatize(word, pos=\"n\") for word in row.split()))\n",
        "train_data['text'] = train_data['text'].apply(lambda row: \" \".join(wordnet_lemmatizer.lemmatize(word, pos=\"a\") for word in row.split()))\n",
        "train_data['cleaned_text'] = train_data['text'].apply(lambda row: \" \".join(wordnet_lemmatizer.lemmatize(word, pos=\"r\") for word in row.split()))\n",
        "\n",
        "\n",
        "from sklearn.feature_extraction.text import TfidfVectorizer\n",
        "\n",
        "# converting text data into features\n",
        "vectorizer = TfidfVectorizer(min_df = 3, ngram_range=(1, 2))\n",
        "X_features = vectorizer.fit_transform(train_data['cleaned_text'])\n"
      ]
    },
    {
      "cell_type": "code",
      "execution_count": null,
      "metadata": {
        "colab": {
          "base_uri": "https://localhost:8080/"
        },
        "id": "xaDwnH0k42lf",
        "outputId": "37121924-1fb0-4d40-aae9-71ae21abf374"
      },
      "outputs": [
        {
          "output_type": "stream",
          "name": "stdout",
          "text": [
            "[nltk_data] Downloading package stopwords to /root/nltk_data...\n",
            "[nltk_data]   Package stopwords is already up-to-date!\n",
            "[nltk_data] Downloading package wordnet to /root/nltk_data...\n",
            "[nltk_data]   Package wordnet is already up-to-date!\n"
          ]
        },
        {
          "output_type": "stream",
          "name": "stderr",
          "text": [
            "/usr/local/lib/python3.7/dist-packages/ipykernel_launcher.py:31: FutureWarning: The default value of regex will change from True to False in a future version.\n"
          ]
        }
      ],
      "source": [
        "#Write your code here.\n",
        "import pandas as pd\n",
        "\n",
        "test_data = pd.read_csv('/content/gdrive/My Drive/stsa-test.txt', sep = \"\\t\", header = None)\n",
        "\n",
        "test_data[1] = test_data[0].apply(lambda row: row.split()[0])\n",
        "test_data[2] = test_data[0].apply(lambda row: \" \".join(row.split()[1:]))\n",
        "test_data = test_data.drop(0, axis = 1)\n",
        "test_data.columns = ['sentiment', 'text']\n",
        "#test_data.head()\n",
        "\n",
        "### You code here:\n",
        "\n",
        "import pandas as pd\n",
        "import re\n",
        "from nltk.corpus import stopwords\n",
        "from sklearn.feature_extraction.text import TfidfVectorizer\n",
        "from sklearn.metrics import classification_report, confusion_matrix\n",
        "from sklearn.model_selection import train_test_split\n",
        "from sklearn.feature_selection import SelectKBest, chi2\n",
        "\n",
        "#from sklearn.ensemble import RandomForestClassifier\n",
        "import nltk\n",
        "nltk.download('stopwords')\n",
        "\n",
        "# getting stopwords of english\n",
        "stopwords = stopwords.words(\"english\")\n",
        "stopwords = [re.sub('[^a-zA-Z0-9]+', '', word) for word in stopwords]\n",
        "\n",
        "# removing all special characters\n",
        "test_data['text'] = test_data['text'].str.replace('[^a-zA-Z0-9 ]', '')\n",
        "test_data['text'] = test_data['text'].apply(lambda x: ' '.join([word for word in x.split() if word not in (stopwords)]))\n",
        "\n",
        "from nltk.stem import WordNetLemmatizer\n",
        "import nltk\n",
        "nltk.download('wordnet')\n",
        "wordnet_lemmatizer = WordNetLemmatizer()\n",
        "\n",
        "# applying lemmatization on the tweets\n",
        "test_data['text'] = test_data['text'].apply(lambda row: \" \".join(wordnet_lemmatizer.lemmatize(word, pos=\"v\") for word in row.split()))\n",
        "test_data['text'] = test_data['text'].apply(lambda row: \" \".join(wordnet_lemmatizer.lemmatize(word, pos=\"n\") for word in row.split()))\n",
        "test_data['text'] = test_data['text'].apply(lambda row: \" \".join(wordnet_lemmatizer.lemmatize(word, pos=\"a\") for word in row.split()))\n",
        "test_data['cleaned_text'] = test_data['text'].apply(lambda row: \" \".join(wordnet_lemmatizer.lemmatize(word, pos=\"r\") for word in row.split()))\n",
        "\n",
        "\n",
        "#from sklearn.feature_extraction.text import TfidfVectorizer\n",
        "\n",
        "#vectorizer = TfidfVectorizer(min_df = 3, ngram_range=(1, 2))\n",
        "test_features = vectorizer.transform(test_data['cleaned_text'])\n"
      ]
    },
    {
      "cell_type": "code",
      "execution_count": null,
      "metadata": {
        "id": "vMlyrYmw42lh"
      },
      "outputs": [],
      "source": [
        ""
      ]
    },
    {
      "cell_type": "code",
      "execution_count": null,
      "metadata": {
        "colab": {
          "base_uri": "https://localhost:8080/"
        },
        "id": "6WuNkGtQ42li",
        "outputId": "912fb029-eb7c-4f91-ae07-f3b3d650ec80"
      },
      "outputs": [
        {
          "output_type": "stream",
          "name": "stdout",
          "text": [
            "Mean_DT_Acc :  0.6699421965317919\n"
          ]
        }
      ],
      "source": [
        "from sklearn.model_selection import cross_val_score\n",
        "from sklearn.tree import DecisionTreeClassifier\n",
        "clf = DecisionTreeClassifier(random_state=0)\n",
        "#iris = load_iris()\n",
        "dectree_accuracies = cross_val_score(clf, X_features, train_data['sentiment'], cv=10)\n",
        "print(\"Mean_DT_Acc : \", dectree_accuracies.mean())"
      ]
    },
    {
      "cell_type": "code",
      "execution_count": null,
      "metadata": {
        "id": "V6F6EJWF42li"
      },
      "outputs": [],
      "source": [
        "# splitting the dataset\n",
        "xtrain, ytrain, xtest, ytest = train_test_split(X_features, train_data['sentiment'], test_size=0.2, random_state = 0)\n"
      ]
    },
    {
      "cell_type": "markdown",
      "metadata": {
        "id": "mdMpLAkh42lj"
      },
      "source": [
        "# MultinomialNB Classifier"
      ]
    },
    {
      "cell_type": "code",
      "execution_count": null,
      "metadata": {
        "colab": {
          "base_uri": "https://localhost:8080/"
        },
        "id": "63ruf0zJ42lj",
        "outputId": "3661dfe0-fe5f-4b10-96c5-3c22727258a0"
      },
      "outputs": [
        {
          "output_type": "stream",
          "name": "stdout",
          "text": [
            "train: [   0    1    2 ... 6916 6917 6918], test: [  23   29   33 ... 6902 6910 6919]\n",
            "train: [   0    1    2 ... 6917 6918 6919], test: [   6   32   36 ... 6875 6897 6901]\n",
            "train: [   0    2    3 ... 6917 6918 6919], test: [   1    5    8 ... 6872 6883 6892]\n",
            "train: [   0    1    3 ... 6917 6918 6919], test: [   2   10   12 ... 6874 6881 6894]\n",
            "train: [   0    1    2 ... 6917 6918 6919], test: [  22   45   50 ... 6907 6913 6914]\n",
            "train: [   0    1    2 ... 6916 6917 6919], test: [   9   24   28 ... 6882 6904 6918]\n",
            "train: [   0    1    2 ... 6916 6918 6919], test: [  15   18   19 ... 6889 6909 6917]\n",
            "train: [   0    1    2 ... 6917 6918 6919], test: [   4   11   14 ... 6887 6895 6896]\n",
            "train: [   1    2    4 ... 6917 6918 6919], test: [   0    3   37 ... 6911 6912 6915]\n",
            "train: [   0    1    2 ... 6917 6918 6919], test: [   7   13   16 ... 6898 6899 6916]\n"
          ]
        }
      ],
      "source": [
        "from sklearn.naive_bayes import MultinomialNB\n",
        "from sklearn.model_selection import KFold\n",
        "from sklearn.metrics import classification_report, confusion_matrix\n",
        "\n",
        "# generating 10 folds\n",
        "kfold = KFold(n_splits=10, shuffle=True, random_state=None)\n",
        "X = X_features\n",
        "y = train_data['sentiment']\n",
        "for train, test in kfold.split(X_features):\n",
        "    print('train: %s, test: %s' % (train, test))\n",
        "    xtrain = X[train]\n",
        "    ytrain = y[train]\n",
        "    xtest = X[test]\n",
        "    ytest = y[test]\n",
        "    multi_nb = MultinomialNB()\n",
        "    multi_nb.fit(xtrain, ytrain)\n",
        "    ypred = multi_nb.predict(xtest)\n",
        "    "
      ]
    },
    {
      "cell_type": "code",
      "execution_count": null,
      "metadata": {
        "colab": {
          "base_uri": "https://localhost:8080/"
        },
        "id": "sstNVSwc42lk",
        "outputId": "7b5be0cf-5115-4db0-c9bd-622114956780"
      },
      "outputs": [
        {
          "output_type": "stream",
          "name": "stdout",
          "text": [
            "              precision    recall  f1-score   support\n",
            "\n",
            "           0       0.83      0.75      0.79       912\n",
            "           1       0.77      0.84      0.80       909\n",
            "\n",
            "    accuracy                           0.80      1821\n",
            "   macro avg       0.80      0.80      0.79      1821\n",
            "weighted avg       0.80      0.80      0.79      1821\n",
            "\n",
            "\n",
            "Test data predictions using Decision Tree classifier are as follows\n",
            "['0' '0' '0' ... '1' '0' '0']\n"
          ]
        }
      ],
      "source": [
        "# predictions using the final trained model\n",
        "multi_nb_pred = multi_nb.predict(test_features)\n",
        "print(classification_report(test_data['sentiment'], multi_nb_pred))\n",
        "print()\n",
        "print(\"Test data predictions using Decision Tree classifier are as follows\")\n",
        "print(multi_nb_pred)"
      ]
    },
    {
      "cell_type": "markdown",
      "metadata": {
        "id": "kD3F1C7w42ll"
      },
      "source": [
        "# SVM Classifier"
      ]
    },
    {
      "cell_type": "code",
      "execution_count": null,
      "metadata": {
        "colab": {
          "base_uri": "https://localhost:8080/"
        },
        "id": "IRWPMALh42ll",
        "outputId": "3c743664-f9a7-4430-9b9b-2798adfb8387"
      },
      "outputs": [
        {
          "output_type": "stream",
          "name": "stdout",
          "text": [
            "train: [   0    1    2 ... 6917 6918 6919], test: [   4    7   14 ... 6882 6894 6899]\n",
            "train: [   0    2    3 ... 6917 6918 6919], test: [   1   12   31 ... 6893 6895 6916]\n",
            "train: [   1    3    4 ... 6917 6918 6919], test: [   0    2    6 ... 6889 6906 6912]\n",
            "train: [   0    1    2 ... 6917 6918 6919], test: [  11   40   53 ... 6852 6866 6872]\n",
            "train: [   0    1    2 ... 6917 6918 6919], test: [  10   13   18 ... 6903 6904 6905]\n",
            "train: [   0    1    2 ... 6916 6917 6918], test: [   5   16   26 ... 6914 6915 6919]\n",
            "train: [   0    1    2 ... 6917 6918 6919], test: [  15   41   49 ... 6908 6910 6913]\n",
            "train: [   0    1    2 ... 6917 6918 6919], test: [   8   22   25 ... 6886 6888 6909]\n",
            "train: [   0    1    2 ... 6917 6918 6919], test: [   9   20   50 ... 6896 6900 6901]\n",
            "train: [   0    1    2 ... 6915 6916 6919], test: [   3   19   29 ... 6911 6917 6918]\n"
          ]
        }
      ],
      "source": [
        "from sklearn import svm\n",
        "from sklearn.model_selection import KFold\n",
        "from sklearn.metrics import classification_report, confusion_matrix\n",
        "\n",
        "# generating 10 folds data\n",
        "kfold = KFold(n_splits=10, shuffle=True, random_state=None)\n",
        "X = X_features\n",
        "y = train_data['sentiment']\n",
        "for train, test in kfold.split(X_features):\n",
        "    print('train: %s, test: %s' % (train, test))\n",
        "    xtrain = X[train]\n",
        "    ytrain = y[train]\n",
        "    xtest = X[test]\n",
        "    ytest = y[test]\n",
        "    svc_clf = svm.SVC()\n",
        "    svc_clf.fit(xtrain, ytrain)\n",
        "    ypred = svc_clf.predict(xtest)"
      ]
    },
    {
      "cell_type": "code",
      "execution_count": null,
      "metadata": {
        "colab": {
          "base_uri": "https://localhost:8080/"
        },
        "id": "DbnUmyAg42ln",
        "outputId": "7c1ea9cf-2737-4808-b80f-0f8b2002d579"
      },
      "outputs": [
        {
          "output_type": "stream",
          "name": "stdout",
          "text": [
            "              precision    recall  f1-score   support\n",
            "\n",
            "           0       0.82      0.78      0.80       912\n",
            "           1       0.79      0.83      0.81       909\n",
            "\n",
            "    accuracy                           0.80      1821\n",
            "   macro avg       0.80      0.80      0.80      1821\n",
            "weighted avg       0.80      0.80      0.80      1821\n",
            "\n",
            "\n",
            "Test data predictions using Decision Tree classifier are as follows\n",
            "['0' '1' '1' ... '1' '1' '0']\n"
          ]
        }
      ],
      "source": [
        "# predictions using the final trained model\n",
        "svc_clf_pred = svc_clf.predict(test_features)\n",
        "print(classification_report(test_data['sentiment'], svc_clf_pred))\n",
        "print()\n",
        "print(\"Test data predictions using Decision Tree classifier are as follows\")\n",
        "print(svc_clf_pred)"
      ]
    },
    {
      "cell_type": "markdown",
      "metadata": {
        "id": "9uhmlNEP42lo"
      },
      "source": [
        "# KNN Classifier"
      ]
    },
    {
      "cell_type": "code",
      "execution_count": null,
      "metadata": {
        "colab": {
          "base_uri": "https://localhost:8080/"
        },
        "id": "BgnbzgR342lo",
        "outputId": "2b4d21a0-c422-42f1-ab8f-2788f3e0a081"
      },
      "outputs": [
        {
          "output_type": "stream",
          "name": "stdout",
          "text": [
            "train: [   0    1    2 ... 6916 6917 6918], test: [  25   32   36 ... 6898 6906 6919]\n",
            "train: [   0    1    2 ... 6917 6918 6919], test: [  10   16   17 ... 6892 6893 6895]\n",
            "train: [   0    1    2 ... 6917 6918 6919], test: [  13   26   33 ... 6900 6910 6912]\n",
            "train: [   0    1    3 ... 6917 6918 6919], test: [   2    6   20 ... 6901 6903 6907]\n",
            "train: [   0    1    2 ... 6917 6918 6919], test: [   4   38   49 ... 6899 6902 6909]\n",
            "train: [   0    1    2 ... 6917 6918 6919], test: [  11   15   44 ... 6883 6889 6914]\n",
            "train: [   0    1    2 ... 6914 6916 6919], test: [  19   23   42 ... 6915 6917 6918]\n",
            "train: [   1    2    3 ... 6917 6918 6919], test: [   0   12   22 ... 6877 6908 6911]\n",
            "train: [   0    1    2 ... 6917 6918 6919], test: [  14   27   28 ... 6896 6913 6916]\n",
            "train: [   0    2    4 ... 6917 6918 6919], test: [   1    3    5 ... 6884 6885 6897]\n"
          ]
        }
      ],
      "source": [
        "from sklearn.neighbors import KNeighborsClassifier\n",
        "\n",
        "from sklearn.model_selection import KFold\n",
        "from sklearn.metrics import classification_report, confusion_matrix\n",
        "\n",
        "# generating 10 folds data\n",
        "kfold = KFold(n_splits=10, shuffle=True, random_state=None)\n",
        "X = X_features\n",
        "y = train_data['sentiment']\n",
        "for train, test in kfold.split(X_features):\n",
        "    print('train: %s, test: %s' % (train, test))\n",
        "    xtrain = X[train]\n",
        "    ytrain = y[train]\n",
        "    xtest = X[test]\n",
        "    ytest = y[test]\n",
        "    knn_clf = KNeighborsClassifier(n_neighbors=3)\n",
        "    knn_clf.fit(xtrain, ytrain)\n",
        "    ypred = knn_clf.predict(xtest)\n",
        "    #print(classification_report(ytest, ypred))"
      ]
    },
    {
      "cell_type": "code",
      "execution_count": null,
      "metadata": {
        "colab": {
          "base_uri": "https://localhost:8080/"
        },
        "id": "4vmAX1wA42lp",
        "outputId": "51b1329b-5509-45f9-a480-b43f80f75656"
      },
      "outputs": [
        {
          "output_type": "stream",
          "name": "stdout",
          "text": [
            "              precision    recall  f1-score   support\n",
            "\n",
            "           0       0.51      0.99      0.67       912\n",
            "           1       0.80      0.04      0.07       909\n",
            "\n",
            "    accuracy                           0.51      1821\n",
            "   macro avg       0.66      0.51      0.37      1821\n",
            "weighted avg       0.66      0.51      0.37      1821\n",
            "\n",
            "\n",
            "Test data predictions using Decision Tree classifier are as follows\n",
            "['0' '0' '0' ... '0' '0' '0']\n"
          ]
        }
      ],
      "source": [
        "# predictions using the final trained model\n",
        "knn_clf_pred = knn_clf.predict(test_features)\n",
        "print(classification_report(test_data['sentiment'], knn_clf_pred))\n",
        "print()\n",
        "print(\"Test data predictions using Decision Tree classifier are as follows\")\n",
        "print(knn_clf_pred)"
      ]
    },
    {
      "cell_type": "markdown",
      "metadata": {
        "id": "N38Ny06942lq"
      },
      "source": [
        "# Decision Tree Classifier"
      ]
    },
    {
      "cell_type": "code",
      "execution_count": null,
      "metadata": {
        "colab": {
          "base_uri": "https://localhost:8080/"
        },
        "id": "glWuutej42lq",
        "outputId": "855531b5-24c4-441a-a517-95191ace5ea9"
      },
      "outputs": [
        {
          "output_type": "stream",
          "name": "stdout",
          "text": [
            "train: [   1    2    4 ... 6917 6918 6919], test: [   0    3    8 ... 6890 6901 6907]\n",
            "train: [   0    1    3 ... 6917 6918 6919], test: [   2   29   39 ... 6894 6899 6903]\n",
            "train: [   0    1    2 ... 6916 6917 6919], test: [  11   28   33 ... 6904 6910 6918]\n",
            "train: [   0    1    2 ... 6916 6918 6919], test: [  35   43   49 ... 6900 6913 6917]\n",
            "train: [   0    1    2 ... 6917 6918 6919], test: [  18   21   23 ... 6877 6891 6893]\n",
            "train: [   0    1    2 ... 6917 6918 6919], test: [   5    7   15 ... 6882 6889 6915]\n",
            "train: [   0    1    2 ... 6917 6918 6919], test: [  12   17   19 ... 6856 6869 6875]\n",
            "train: [   0    2    3 ... 6917 6918 6919], test: [   1    4   14 ... 6908 6911 6914]\n",
            "train: [   0    1    2 ... 6916 6917 6918], test: [   6   13   24 ... 6902 6906 6919]\n",
            "train: [   0    1    2 ... 6917 6918 6919], test: [  10   16   22 ... 6909 6912 6916]\n"
          ]
        }
      ],
      "source": [
        "from sklearn.model_selection import KFold\n",
        "from sklearn.tree import DecisionTreeClassifier\n",
        "from sklearn.metrics import classification_report, confusion_matrix\n",
        "\n",
        "# generating 10 folds data\n",
        "kfold = KFold(n_splits=10, shuffle=True, random_state=None)\n",
        "X = X_features\n",
        "y = train_data['sentiment']\n",
        "for train, test in kfold.split(X_features):\n",
        "    print('train: %s, test: %s' % (train, test))\n",
        "    xtrain = X[train]\n",
        "    ytrain = y[train]\n",
        "    xtest = X[test]\n",
        "    ytest = y[test]\n",
        "    dtclf = DecisionTreeClassifier()\n",
        "    dtclf.fit(xtrain, ytrain)\n",
        "    ypred = dtclf.predict(xtest)\n",
        "    #print(classification_report(ytest, ypred))"
      ]
    },
    {
      "cell_type": "code",
      "execution_count": null,
      "metadata": {
        "colab": {
          "base_uri": "https://localhost:8080/"
        },
        "id": "S2lH2K8k42lr",
        "outputId": "52c055cf-346f-467b-e02f-5aec17b4c59a"
      },
      "outputs": [
        {
          "output_type": "stream",
          "name": "stdout",
          "text": [
            "              precision    recall  f1-score   support\n",
            "\n",
            "           0       0.65      0.70      0.67       912\n",
            "           1       0.67      0.63      0.65       909\n",
            "\n",
            "    accuracy                           0.66      1821\n",
            "   macro avg       0.66      0.66      0.66      1821\n",
            "weighted avg       0.66      0.66      0.66      1821\n",
            "\n",
            "\n",
            "Test data predictions using Decision Tree classifier are as follows\n",
            "['0' '0' '0' ... '0' '1' '0']\n"
          ]
        }
      ],
      "source": [
        "# predictions using the final trained model\n",
        "dtclf_pred = dtclf.predict(test_features)\n",
        "print(classification_report(test_data['sentiment'], dtclf_pred))\n",
        "print()\n",
        "print(\"Test data predictions using Decision Tree classifier are as follows\")\n",
        "print(dtclf_pred)"
      ]
    },
    {
      "cell_type": "markdown",
      "metadata": {
        "id": "P0ETolth42ls"
      },
      "source": [
        "# Random Forest Classifier"
      ]
    },
    {
      "cell_type": "code",
      "execution_count": null,
      "metadata": {
        "colab": {
          "base_uri": "https://localhost:8080/"
        },
        "id": "018Uxlj542lt",
        "outputId": "cc184646-7da0-4f78-8c0c-09ed4a7667c4"
      },
      "outputs": [
        {
          "output_type": "stream",
          "name": "stdout",
          "text": [
            "train: [   1    3    4 ... 6917 6918 6919], test: [   0    2   17 ... 6877 6883 6886]\n",
            "train: [   0    1    2 ... 6916 6917 6918], test: [  15   18   65 ... 6894 6908 6919]\n",
            "train: [   0    1    2 ... 6916 6917 6919], test: [   5    7    9 ... 6909 6912 6918]\n",
            "train: [   0    1    2 ... 6916 6918 6919], test: [   3   10   11 ... 6905 6906 6917]\n",
            "train: [   0    1    2 ... 6917 6918 6919], test: [   6   14   53 ... 6893 6901 6916]\n",
            "train: [   0    1    2 ... 6917 6918 6919], test: [  13   20   32 ... 6892 6899 6900]\n",
            "train: [   0    2    3 ... 6917 6918 6919], test: [   1    8   21 ... 6898 6911 6914]\n",
            "train: [   0    1    2 ... 6917 6918 6919], test: [  25   36   62 ... 6891 6895 6910]\n",
            "train: [   0    1    2 ... 6917 6918 6919], test: [  12   31   38 ... 6885 6887 6903]\n",
            "train: [   0    1    2 ... 6917 6918 6919], test: [   4   16   28 ... 6907 6913 6915]\n"
          ]
        }
      ],
      "source": [
        "from sklearn.ensemble import RandomForestClassifier\n",
        "\n",
        "from sklearn.model_selection import KFold\n",
        "from sklearn.metrics import classification_report, confusion_matrix\n",
        "\n",
        "# generating 10 folds data\n",
        "kfold = KFold(n_splits=10, shuffle=True, random_state=None)\n",
        "X = X_features\n",
        "y = train_data['sentiment']\n",
        "for train, test in kfold.split(X_features):\n",
        "    print('train: %s, test: %s' % (train, test))\n",
        "    xtrain = X[train]\n",
        "    ytrain = y[train]\n",
        "    xtest = X[test]\n",
        "    ytest = y[test]\n",
        "    rf_clf = RandomForestClassifier(max_depth=2, random_state=0)\n",
        "    rf_clf.fit(xtrain, ytrain)\n",
        "    ypred = rf_clf.predict(xtest)\n",
        "    #print(classification_report(ytest, ypred))"
      ]
    },
    {
      "cell_type": "code",
      "execution_count": null,
      "metadata": {
        "colab": {
          "base_uri": "https://localhost:8080/"
        },
        "id": "KBT3fTKp42lt",
        "outputId": "1da5938c-fc03-412a-8907-6cb5241313e8"
      },
      "outputs": [
        {
          "output_type": "stream",
          "name": "stdout",
          "text": [
            "              precision    recall  f1-score   support\n",
            "\n",
            "           0       0.97      0.04      0.07       912\n",
            "           1       0.51      1.00      0.67       909\n",
            "\n",
            "    accuracy                           0.52      1821\n",
            "   macro avg       0.74      0.52      0.37      1821\n",
            "weighted avg       0.74      0.52      0.37      1821\n",
            "\n",
            "\n",
            "Test data predictions using Decision Tree classifier are as follows\n",
            "['1' '1' '1' ... '1' '1' '1']\n"
          ]
        }
      ],
      "source": [
        "# predictions using the final trained model\n",
        "rf_clf_pred = rf_clf.predict(test_features)\n",
        "print(classification_report(test_data['sentiment'], rf_clf_pred))\n",
        "print()\n",
        "print(\"Test data predictions using Decision Tree classifier are as follows\")\n",
        "print(rf_clf_pred)"
      ]
    },
    {
      "cell_type": "markdown",
      "metadata": {
        "id": "BOrEW7ju42lu"
      },
      "source": [
        "# XGBoost classifier"
      ]
    },
    {
      "cell_type": "code",
      "execution_count": null,
      "metadata": {
        "colab": {
          "base_uri": "https://localhost:8080/"
        },
        "id": "H7etxzDf42lu",
        "outputId": "b6ddf128-bd1d-46b8-a563-34307feecc89"
      },
      "outputs": [
        {
          "output_type": "stream",
          "name": "stdout",
          "text": [
            "train: [   0    1    2 ... 6917 6918 6919], test: [   9   25   28 ... 6906 6907 6911]\n",
            "train: [   0    1    4 ... 6917 6918 6919], test: [   2    3   10 ... 6881 6896 6898]\n",
            "train: [   1    2    3 ... 6916 6917 6919], test: [   0   11   16 ... 6863 6894 6918]\n",
            "train: [   0    1    2 ... 6917 6918 6919], test: [   8   13   15 ... 6885 6886 6887]\n",
            "train: [   0    1    2 ... 6917 6918 6919], test: [  27   34   48 ... 6852 6875 6904]\n",
            "train: [   0    1    2 ... 6917 6918 6919], test: [  12   33   39 ... 6883 6909 6916]\n",
            "train: [   0    1    2 ... 6917 6918 6919], test: [   6    7   17 ... 6890 6901 6902]\n",
            "train: [   0    1    2 ... 6917 6918 6919], test: [   4   24   32 ... 6913 6914 6915]\n",
            "train: [   0    2    3 ... 6917 6918 6919], test: [   1    5   35 ... 6892 6905 6908]\n",
            "train: [   0    1    2 ... 6915 6916 6918], test: [  14   21   26 ... 6910 6917 6919]\n"
          ]
        }
      ],
      "source": [
        "from sklearn.ensemble import GradientBoostingClassifier\n",
        "from sklearn.model_selection import KFold\n",
        "from sklearn.metrics import classification_report, confusion_matrix\n",
        "\n",
        "# generating 10 folds data\n",
        "kfold = KFold(n_splits=10, shuffle=True, random_state=None)\n",
        "X = X_features\n",
        "y = train_data['sentiment']\n",
        "for train, test in kfold.split(X_features):\n",
        "    print('train: %s, test: %s' % (train, test))\n",
        "    xtrain = X[train]\n",
        "    ytrain = y[train]\n",
        "    xtest = X[test]\n",
        "    ytest = y[test]\n",
        "    xgboost_clf = GradientBoostingClassifier(n_estimators=100, random_state=0)\n",
        "    \n",
        "    xgboost_clf.fit(xtrain, ytrain)\n",
        "    ypred = xgboost_clf.predict(xtest)"
      ]
    },
    {
      "cell_type": "code",
      "execution_count": null,
      "metadata": {
        "colab": {
          "base_uri": "https://localhost:8080/"
        },
        "id": "5yJoPGt942lv",
        "outputId": "49a9a775-6e93-455a-eb4e-e984cd01bb15"
      },
      "outputs": [
        {
          "output_type": "stream",
          "name": "stdout",
          "text": [
            "              precision    recall  f1-score   support\n",
            "\n",
            "           0       0.78      0.43      0.56       912\n",
            "           1       0.61      0.88      0.72       909\n",
            "\n",
            "    accuracy                           0.66      1821\n",
            "   macro avg       0.69      0.66      0.64      1821\n",
            "weighted avg       0.69      0.66      0.64      1821\n",
            "\n",
            "\n",
            "Test data predictions using Decision Tree classifier are as follows\n",
            "['1' '0' '0' ... '0' '1' '0']\n"
          ]
        }
      ],
      "source": [
        "# predictions using the final trained model\n",
        "xgboost_clf_pred = xgboost_clf.predict(test_features)\n",
        "print(classification_report(test_data['sentiment'], xgboost_clf_pred))\n",
        "print()\n",
        "print(\"Test data predictions using Decision Tree classifier are as follows\")\n",
        "print(xgboost_clf_pred)"
      ]
    },
    {
      "cell_type": "markdown",
      "metadata": {
        "id": "5HYT7Q3X42lv"
      },
      "source": [
        "# Q2.)"
      ]
    },
    {
      "cell_type": "code",
      "execution_count": null,
      "metadata": {
        "colab": {
          "base_uri": "https://localhost:8080/"
        },
        "id": "lNFcmFBw42lw",
        "outputId": "b79c1371-e3ba-48d9-c5f1-041586351361"
      },
      "outputs": [
        {
          "output_type": "stream",
          "name": "stdout",
          "text": [
            "[nltk_data] Downloading package stopwords to /root/nltk_data...\n",
            "[nltk_data]   Package stopwords is already up-to-date!\n"
          ]
        },
        {
          "output_type": "stream",
          "name": "stderr",
          "text": [
            "/usr/local/lib/python3.7/dist-packages/ipykernel_launcher.py:24: FutureWarning: The default value of regex will change from True to False in a future version.\n"
          ]
        },
        {
          "output_type": "stream",
          "name": "stdout",
          "text": [
            "[nltk_data] Downloading package wordnet to /root/nltk_data...\n",
            "[nltk_data]   Package wordnet is already up-to-date!\n"
          ]
        }
      ],
      "source": [
        "#You can write you answer here. (No code needed)\n",
        "\n",
        "import pandas as pd\n",
        "\n",
        "reviews = pd.read_csv(\"/content/gdrive/My Drive/Amazon_Unlocked_Mobile.csv\")\n",
        "reviews = reviews.dropna(subset=['Reviews'])\n",
        "\n",
        "import pandas as pd\n",
        "import re\n",
        "from nltk.corpus import stopwords\n",
        "from sklearn.feature_extraction.text import TfidfVectorizer\n",
        "from sklearn.metrics import classification_report, confusion_matrix\n",
        "from sklearn.model_selection import train_test_split\n",
        "from sklearn.feature_selection import SelectKBest, chi2\n",
        "\n",
        "import nltk\n",
        "nltk.download('stopwords')\n",
        "\n",
        "# getting stopwords of english\n",
        "stopwords = stopwords.words(\"english\")\n",
        "stopwords = [re.sub('[^a-zA-Z0-9]+', '', word) for word in stopwords]\n",
        "\n",
        "# removing all special characters\n",
        "reviews['Reviews'] = reviews['Reviews'].str.replace('[^a-zA-Z0-9 ]', '')\n",
        "reviews['Reviews'] = reviews['Reviews'].apply(lambda x: ' '.join([word for word in x.split() if word not in (stopwords)]))\n",
        "\n",
        "from nltk.stem import WordNetLemmatizer\n",
        "import nltk\n",
        "nltk.download('wordnet')\n",
        "wordnet_lemmatizer = WordNetLemmatizer()\n",
        "\n",
        "# applying lemmatization on the tweets\n",
        "reviews['Reviews'] = reviews['Reviews'].apply(lambda row: \" \".join(wordnet_lemmatizer.lemmatize(word, pos=\"v\") for word in row.split()))\n",
        "reviews['Reviews'] = reviews['Reviews'].apply(lambda row: \" \".join(wordnet_lemmatizer.lemmatize(word, pos=\"n\") for word in row.split()))\n",
        "reviews['Reviews'] = reviews['Reviews'].apply(lambda row: \" \".join(wordnet_lemmatizer.lemmatize(word, pos=\"a\") for word in row.split()))\n",
        "reviews['cleaned_reviews']= reviews['Reviews'].apply(lambda row: \" \".join(wordnet_lemmatizer.lemmatize(word, pos=\"r\") for word in row.split()))\n"
      ]
    },
    {
      "cell_type": "code",
      "execution_count": null,
      "metadata": {
        "id": "O4tG8x_U42lx"
      },
      "outputs": [],
      "source": [
        "from sklearn.feature_extraction.text import TfidfVectorizer\n",
        "\n",
        "# feature extraction\n",
        "vectorizer = TfidfVectorizer(min_df = 100, ngram_range=(1, 2))\n",
        "review_features = vectorizer.fit_transform(list(reviews['cleaned_reviews'].values)[:200])\n"
      ]
    },
    {
      "cell_type": "code",
      "execution_count": null,
      "metadata": {
        "scrolled": true,
        "colab": {
          "base_uri": "https://localhost:8080/"
        },
        "id": "pjsY_1Ad42lx",
        "outputId": "a03e37f9-a051-4853-9deb-967bac00fe67"
      },
      "outputs": [
        {
          "output_type": "stream",
          "name": "stdout",
          "text": [
            "[0 0 1 ... 0 1 0]\n",
            "1.0\n"
          ]
        },
        {
          "output_type": "stream",
          "name": "stderr",
          "text": [
            "/usr/local/lib/python3.7/dist-packages/ipykernel_launcher.py:6: ConvergenceWarning: Number of distinct clusters (2) found smaller than n_clusters (5). Possibly due to duplicate points in X.\n",
            "  \n"
          ]
        }
      ],
      "source": [
        "from sklearn.cluster import KMeans\n",
        "from sklearn.metrics import silhouette_score\n",
        "\n",
        "# K-means clustering \n",
        "kmeans = KMeans(n_clusters=5)\n",
        "kmeans.fit(review_features)\n",
        "ypred = kmeans.predict(review_features)\n",
        "print(kmeans.labels_)\n",
        "kmeans_silhouette = silhouette_score(review_features, kmeans.labels_).round(2)\n",
        "# Silhouette score\n",
        "print(kmeans_silhouette)"
      ]
    },
    {
      "cell_type": "markdown",
      "metadata": {
        "id": "L7wWAU-Q42ly"
      },
      "source": [
        "# DBSCAN"
      ]
    },
    {
      "cell_type": "code",
      "execution_count": null,
      "metadata": {
        "colab": {
          "base_uri": "https://localhost:8080/"
        },
        "id": "UXyQ1c7g42ly",
        "outputId": "29f01045-d708-424e-ef30-73b59ca8670e"
      },
      "outputs": [
        {
          "output_type": "stream",
          "name": "stdout",
          "text": [
            "[0 0 1 ... 0 1 0]\n",
            "1.0\n"
          ]
        }
      ],
      "source": [
        "from sklearn.cluster import DBSCAN\n",
        "\n",
        "# DBScan clustering\n",
        "dbscan = DBSCAN(eps=0.3)\n",
        "\n",
        "dbscan.fit(review_features)\n",
        "ypred = dbscan.fit_predict(review_features)\n",
        "print(ypred)\n",
        "dbscan_silhouette = silhouette_score(review_features, dbscan.labels_).round(2)\n",
        "print(dbscan_silhouette)"
      ]
    },
    {
      "cell_type": "markdown",
      "metadata": {
        "id": "BQmbxWVr42lz"
      },
      "source": [
        "# Hierarchical Clustering"
      ]
    },
    {
      "cell_type": "code",
      "execution_count": null,
      "metadata": {
        "colab": {
          "base_uri": "https://localhost:8080/"
        },
        "id": "mSoeid6u42lz",
        "outputId": "63e37e8b-c98b-4cc2-d39f-4bb7a70bc98a"
      },
      "outputs": [
        {
          "output_type": "stream",
          "name": "stdout",
          "text": [
            "[0 0 1 ... 4 3 2]\n",
            "0.0\n"
          ]
        }
      ],
      "source": [
        "from sklearn.cluster import AgglomerativeClustering\n",
        "\n",
        "# Hierarchical clustering\n",
        "agg_clus_model = AgglomerativeClustering(n_clusters=5, affinity='euclidean', linkage='ward')  \n",
        "ypred = agg_clus_model.fit_predict(review_features.toarray())\n",
        "print(ypred)\n",
        "aggclus_silhouette = silhouette_score(review_features, agg_clus_model.labels_).round(2)\n",
        "print(aggclus_silhouette)"
      ]
    },
    {
      "cell_type": "markdown",
      "metadata": {
        "id": "UEQGNjiZ42l0"
      },
      "source": [
        "# Comparison of Kmeans, DBScan, Hierarchical clustering"
      ]
    },
    {
      "cell_type": "markdown",
      "metadata": {
        "id": "61NRZ-zx42l0"
      },
      "source": [
        ". K-means clustering is an unsupervised learning algorithm which is centroid-based or partition-based clustering algorithm.\\\n",
        ". K-means algorithm partitions all the points in the sample space into K groups of similarity.\\\n",
        ". The similarity is usually measured using Euclidian Distance.\\\n",
        ". DBScan is a density-based clustering algorithm.\\\n",
        ". The key fact of this algorithm is that the neighbourhood of each point in a cluster which is within a given radius (R) must have a minimum number of points (M).\\\n",
        ". Hierarchical clustering is a type of unsupervised machine learning algorithm used to cluster unlabeled data points.\\\n",
        ". Like K-means clustering, hierarchical clustering also groups together the data points with similar characteristics.\\\n",
        ". In some cases the result of hierarchical and K-Means clustering can be similar."
      ]
    },
    {
      "cell_type": "code",
      "source": [
        ""
      ],
      "metadata": {
        "id": "O-MjrCd-8acF"
      },
      "execution_count": null,
      "outputs": []
    }
  ],
  "metadata": {
    "kernelspec": {
      "display_name": "Python 3 (ipykernel)",
      "language": "python",
      "name": "python3"
    },
    "language_info": {
      "codemirror_mode": {
        "name": "ipython",
        "version": 3
      },
      "file_extension": ".py",
      "mimetype": "text/x-python",
      "name": "python",
      "nbconvert_exporter": "python",
      "pygments_lexer": "ipython3",
      "version": "3.9.7"
    },
    "colab": {
      "name": "In_class_exercise_05.Colab.ipynb",
      "provenance": [],
      "collapsed_sections": [],
      "include_colab_link": true
    }
  },
  "nbformat": 4,
  "nbformat_minor": 0
}